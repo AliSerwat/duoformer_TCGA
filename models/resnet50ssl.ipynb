{
 "cells": [
  {
   "cell_type": "code",
   "execution_count": null,
   "id": "7afae0a2",
   "metadata": {},
   "outputs": [],
   "source": [
    "from pathlib import Path"
   ]
  },
  {
   "cell_type": "code",
   "execution_count": null,
   "id": "4ad21dc5",
   "metadata": {},
   "outputs": [],
   "source": [
    "dir_containing_this_file = Path(__file__).resolve().parent\n",
    "import sys"
   ]
  },
  {
   "cell_type": "code",
   "execution_count": null,
   "id": "b78f06b2",
   "metadata": {},
   "outputs": [],
   "source": [
    "sys.path.insert(0, dir_containing_this_file)\n",
    "import torch\n",
    "from torchvision.models.resnet import Bottleneck, ResNet\n",
    "import os"
   ]
  },
  {
   "cell_type": "code",
   "execution_count": null,
   "id": "4f0adeef",
   "metadata": {},
   "outputs": [],
   "source": [
    "class ResNetTrunk(ResNet):\n",
    "    def __init__(self, *args, **kwargs):\n",
    "        super().__init__(*args, **kwargs)\n",
    "        del self.fc  # remove FC layer\n",
    "\n",
    "    def forward(self, x):\n",
    "        x = self.conv1(x)\n",
    "        x = self.bn1(x)\n",
    "        x = self.relu(x)\n",
    "        x = self.maxpool(x)\n",
    "\n",
    "        x = self.layer1(x)\n",
    "        x = self.layer2(x)\n",
    "        x = self.layer3(x)\n",
    "        x = self.layer4(x)\n",
    "        return x"
   ]
  },
  {
   "cell_type": "code",
   "execution_count": null,
   "id": "142e5214",
   "metadata": {},
   "outputs": [],
   "source": [
    "class ResNetTrunkByScale(ResNet):\n",
    "    def __init__(self, *args, **kwargs):\n",
    "        super().__init__(*args, **kwargs)\n",
    "        del self.fc  # remove FC layer\n",
    "\n",
    "    def forward(self, x):\n",
    "        x = self.conv1(x)\n",
    "        x = self.bn1(x)\n",
    "        x = self.relu(x)\n",
    "        x = self.maxpool(x)\n",
    "\n",
    "        x0 = self.layer1(x)\n",
    "        x1 = self.layer2(x0)\n",
    "        x2 = self.layer3(x1)\n",
    "        x3 = self.layer4(x2)\n",
    "        return [x0, x1, x2, x3]"
   ]
  },
  {
   "cell_type": "code",
   "execution_count": null,
   "id": "4ff64ab7",
   "metadata": {},
   "outputs": [],
   "source": [
    "def get_pretrained_url(key):\n",
    "    URL_PREFIX = \"https://github.com/lunit-io/benchmark-ssl-pathology/releases/download/pretrained-weights\"\n",
    "    # URL_PREFIX = \"https://github.com/lunit-io/benchmark-ssl-pathology/releases/tag/pretrained-weights\"\n",
    "    model_zoo_registry = {\n",
    "        \"BT\": \"bt_rn50_ep200.torch\",\n",
    "        \"MoCoV2\": \"mocov2_rn50_ep200.torch\",\n",
    "        \"SwAV\": \"swav_rn50_ep200.torch\",\n",
    "    }\n",
    "    pretrained_url = f\"{URL_PREFIX}/{model_zoo_registry.get(key)}\"\n",
    "    return pretrained_url, model_zoo_registry.get(key)"
   ]
  },
  {
   "cell_type": "code",
   "execution_count": null,
   "id": "3d77bff1",
   "metadata": {},
   "outputs": [],
   "source": [
    "def resnet50FeatureExtractor(pretrained, progress, key, **kwargs):\n",
    "    model = ResNetTrunkByScale(Bottleneck, [3, 4, 6, 3], **kwargs)\n",
    "    if pretrained:\n",
    "        pretrained_url, model_filename = get_pretrained_url(key)\n",
    "        print(pretrained_url)\n",
    "        if os.path.exists(model_filename):\n",
    "            state_dict = torch.load(model_filename)\n",
    "            verbose = model.load_state_dict(state_dict)\n",
    "            print(\n",
    "                f\"Model exists. Loaded pretrained model from local file: {model_filename}\"\n",
    "            )\n",
    "        else:\n",
    "            state_dict = torch.hub.load_state_dict_from_url(\n",
    "                pretrained_url, progress=progress\n",
    "            )\n",
    "            torch.save(state_dict, model_filename)\n",
    "            verbose = model.load_state_dict(state_dict)\n",
    "            print(f\"Downloaded and saved pretrained model: {model_filename}\")\n",
    "        print(verbose)\n",
    "    return model"
   ]
  },
  {
   "cell_type": "code",
   "execution_count": null,
   "id": "8d5f8ce3",
   "metadata": {},
   "outputs": [],
   "source": [
    "def resnet50(pretrained, progress, key, **kwargs):\n",
    "    model = ResNetTrunk(Bottleneck, [3, 4, 6, 3], **kwargs)\n",
    "    if pretrained:\n",
    "        pretrained_url, model_filename = get_pretrained_url(key)\n",
    "        print(pretrained_url)\n",
    "        if os.path.exists(model_filename):\n",
    "            state_dict = torch.load(model_filename)\n",
    "            verbose = model.load_state_dict(state_dict)\n",
    "            print(\n",
    "                f\"Model exists. Loaded pretrained model from local file: {model_filename}\"\n",
    "            )\n",
    "        else:\n",
    "            state_dict = torch.hub.load_state_dict_from_url(\n",
    "                pretrained_url, progress=progress\n",
    "            )\n",
    "            torch.save(state_dict, model_filename)\n",
    "            verbose = model.load_state_dict(state_dict)\n",
    "            print(f\"Downloaded and saved pretrained model: {model_filename}\")\n",
    "        print(verbose)\n",
    "    return model"
   ]
  },
  {
   "cell_type": "code",
   "execution_count": null,
   "id": "c223abcb",
   "metadata": {
    "lines_to_next_cell": 2
   },
   "outputs": [],
   "source": [
    "class ResNet50withFC(torch.nn.Module):\n",
    "    def __init__(\n",
    "        self, pretrained=True, progress=False, num_classes=4, key=\"BT\", freeze=True\n",
    "    ):\n",
    "        super().__init__()\n",
    "        self.resnet_trunk = resnet50(pretrained=pretrained, progress=progress, key=key)\n",
    "        if freeze:  # freeze the pretrained feature extractor\n",
    "            for param in self.resnet_trunk.parameters():\n",
    "                param.requires_grad = False\n",
    "            print(\"resnet_trunk frozen.\")\n",
    "        self.fc = torch.nn.Linear(\n",
    "            512 * Bottleneck.expansion, num_classes\n",
    "        )  # Add your custom linear layer\n",
    "\n",
    "    def forward(self, x):\n",
    "        x = self.resnet_trunk(x)\n",
    "        x = self.resnet_trunk.avgpool(x)\n",
    "        x = torch.flatten(x, 1)\n",
    "        x = self.fc(x)\n",
    "        return x"
   ]
  },
  {
   "cell_type": "markdown",
   "id": "5c89a1cd",
   "metadata": {},
   "source": [
    "def count_parameters(model):\n",
    "    trainable_params = sum(p.numel() for p in model.parameters() if p.requires_grad)\n",
    "    total_params = sum(p.numel() for p in model.parameters())\n",
    "    return trainable_params/1000000, total_params/1000000"
   ]
  },
  {
   "cell_type": "markdown",
   "id": "e65a3d11",
   "metadata": {},
   "source": [
    "if __name__ == \"__main__\":\n",
    "initialize resnet50 trunk using BT pre-trained weight\n",
    "model = resnet50(pretrained=True, progress=False, key=\"SwAV\")\n",
    "print(count_parameters(model))"
   ]
  }
 ],
 "metadata": {
  "jupytext": {
   "cell_metadata_filter": "-all",
   "main_language": "python",
   "notebook_metadata_filter": "-all"
  }
 },
 "nbformat": 4,
 "nbformat_minor": 5
}
