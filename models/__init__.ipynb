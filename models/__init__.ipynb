{
 "cells": [
  {
   "cell_type": "code",
   "execution_count": 26,
   "id": "1cefedb2",
   "metadata": {},
   "outputs": [],
   "source": [
    "import inspect\n",
    "import sys\n",
    "from pathlib import Path\n",
    "\n",
    "symbol_tracer_script = Path(\"/teamspace/studios/this_studio/symbol_tracer.py\")\n",
    "duoformer_dir = Path(\"/teamspace/studios/this_studio/duoformer_TCGA/models\")\n",
    "current_dir = Path().resolve().parent\n",
    "for p in (str(current_dir), str(duoformer_dir), str(symbol_tracer_script.parent)):\n",
    "    if p not in sys.path:\n",
    "        sys.path.insert(0, p)\n",
    "\n",
    "from symbol_tracer import SymbolTracer"
   ]
  },
  {
   "cell_type": "code",
   "execution_count": 27,
   "id": "835095c4",
   "metadata": {},
   "outputs": [],
   "source": [
    "from pathlib import Path"
   ]
  },
  {
   "cell_type": "code",
   "execution_count": 28,
   "id": "9d5219d0",
   "metadata": {},
   "outputs": [],
   "source": [
    "dir_containing_this_file = Path().resolve().parent\n",
    "import sys"
   ]
  },
  {
   "cell_type": "code",
   "execution_count": 32,
   "id": "74226cd9",
   "metadata": {},
   "outputs": [],
   "source": [
    "sys.path.insert(0, dir_containing_this_file)\n",
    "from model import *\n",
    "from model_wo_extra_params import *\n",
    "import model_wo_extra_params\n",
    "from resnet50ssl import *"
   ]
  },
  {
   "cell_type": "code",
   "execution_count": 30,
   "id": "5c6085b5",
   "metadata": {},
   "outputs": [],
   "source": [
    "def build_model(\n",
    "    depth=12,\n",
    "    patch_size=49,\n",
    "    embed_dim=256,\n",
    "    num_heads=6,\n",
    "    init_values=1e-5,\n",
    "    num_classes=100,\n",
    "    num_layers=4,\n",
    "    proj_dim=384,\n",
    "    model_ver=\"scaleformer\",\n",
    "    pretrained=True,\n",
    "    freeze=True,\n",
    "):\n",
    "    return MyModel(\n",
    "        depth=depth,\n",
    "        patch_size=patch_size,\n",
    "        embed_dim=embed_dim,\n",
    "        num_heads=num_heads,\n",
    "        num_classes=num_classes,\n",
    "        init_values=init_values,\n",
    "        num_layers=num_layers,\n",
    "        proj_dim=proj_dim,\n",
    "        model_ver=model_ver,\n",
    "        pretrained=pretrained,\n",
    "        freeze=freeze,\n",
    "    )"
   ]
  },
  {
   "cell_type": "code",
   "execution_count": null,
   "id": "a62684f3",
   "metadata": {},
   "outputs": [],
   "source": [
    "def build_model_no_extra_params(\n",
    "    depth=12,\n",
    "    embed_dim=256,\n",
    "    num_heads=6,\n",
    "    num_classes=100,\n",
    "    num_layers=4,\n",
    "    num_patches=49,\n",
    "    proj_dim=384,\n",
    "    mlp_ratio=4.0,\n",
    "    attn_drop_rate=0.0,\n",
    "    proj_drop_rate=0.0,\n",
    "    freeze_backbone=True,\n",
    "    backbone=\"r50\",\n",
    "    pretrained=True,\n",
    "):\n",
    "\n",
    "    return MyModel_no_extra_params(\n",
    "        depth=depth,\n",
    "        embed_dim=embed_dim,\n",
    "        num_heads=num_heads,\n",
    "        num_classes=num_classes,\n",
    "        num_layers=num_layers,\n",
    "        num_patches=num_patches,\n",
    "        proj_dim=proj_dim,\n",
    "        mlp_ratio=mlp_ratio,\n",
    "        attn_drop_rate=attn_drop_rate,\n",
    "        proj_drop_rate=proj_drop_rate,\n",
    "        freeze_backbone=freeze_backbone,\n",
    "        backbone=backbone,\n",
    "        pretrained=pretrained,\n",
    "    )"
   ]
  },
  {
   "cell_type": "code",
   "execution_count": null,
   "id": "984b4e19",
   "metadata": {
    "lines_to_next_cell": 2
   },
   "outputs": [],
   "source": [
    "def build_hybrid(\n",
    "    num_classes=100, num_blocks=12, proj_dim=768, num_heads=12\n",
    "):  # model_ver='R50ViT'\n",
    "    # return HybridModel(num_classes=num_classes,num_blocks=num_blocks,proj_dim=proj_dim,num_heads=num_heads)\n",
    "    return HybridModel(\n",
    "        num_classes=num_classes, num_blocks=num_blocks, proj_dim=proj_dim\n",
    "    )\n",
    "    # return ViTBase16(n_classes=num_classes,model_type = 'R50ViT')"
   ]
  },
  {
   "cell_type": "code",
   "execution_count": null,
   "id": "f910ffeb",
   "metadata": {},
   "outputs": [],
   "source": [
    "def r50_pretrained_TCGA(key=\"SwAV\"):\n",
    "    return resnet50(pretrained=True, progress=False, key=key)"
   ]
  }
 ],
 "metadata": {
  "jupytext": {
   "cell_metadata_filter": "-all",
   "main_language": "python",
   "notebook_metadata_filter": "-all"
  },
  "kernelspec": {
   "display_name": "cloudspace",
   "language": "python",
   "name": "python3"
  },
  "language_info": {
   "codemirror_mode": {
    "name": "ipython",
    "version": 3
   },
   "file_extension": ".py",
   "mimetype": "text/x-python",
   "name": "python",
   "nbconvert_exporter": "python",
   "pygments_lexer": "ipython3",
   "version": "3.10.10"
  }
 },
 "nbformat": 4,
 "nbformat_minor": 5
}
